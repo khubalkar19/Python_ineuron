{
 "cells": [
  {
   "cell_type": "markdown",
   "id": "637b47a5",
   "metadata": {},
   "source": [
    "## Programming Assignment_1\n",
    "-------------"
   ]
  },
  {
   "cell_type": "code",
   "execution_count": 1,
   "id": "1d5f40ce",
   "metadata": {},
   "outputs": [
    {
     "name": "stdout",
     "output_type": "stream",
     "text": [
      "hello pyhton\n"
     ]
    }
   ],
   "source": [
    "print(\"hello pyhton\")"
   ]
  },
  {
   "cell_type": "markdown",
   "id": "0c647dbe",
   "metadata": {},
   "source": [
    "### 1. Write a Python program to print \"Hello Python\"?"
   ]
  },
  {
   "cell_type": "markdown",
   "id": "fc18a6cd",
   "metadata": {},
   "source": [
    "### 2. Write a Python program to do arithmetical operations addition and division.?\n"
   ]
  },
  {
   "cell_type": "code",
   "execution_count": 3,
   "id": "6a919163",
   "metadata": {},
   "outputs": [
    {
     "name": "stdout",
     "output_type": "stream",
     "text": [
      "Enter number 1\n",
      "Enter operator + or /+\n",
      "Enter number 3\n",
      "4\n"
     ]
    }
   ],
   "source": [
    "num1=int(input(\"Enter number \"))\n",
    "opt=input(\"Enter operator + or /\")\n",
    "num2=int(input(\"Enter number \"))\n",
    "\n",
    "add=num1+num2\n",
    "div=num1/num2\n",
    "if opt==\"+\":\n",
    "    print(add)\n",
    "else:\n",
    "    print(div)"
   ]
  },
  {
   "cell_type": "markdown",
   "id": "af6e2429",
   "metadata": {},
   "source": [
    "### 3. Write a Python program to find the area of a triangle?\n"
   ]
  },
  {
   "cell_type": "code",
   "execution_count": 4,
   "id": "06d63c71",
   "metadata": {},
   "outputs": [
    {
     "name": "stdout",
     "output_type": "stream",
     "text": [
      " Enter base 1\n",
      "Enter height 3\n",
      "1.5\n"
     ]
    }
   ],
   "source": [
    "base=int(input(\" Enter base \"))\n",
    "height=int(input(\"Enter height \"))\n",
    "area=1/2*base*height\n",
    "print(area)"
   ]
  },
  {
   "cell_type": "markdown",
   "id": "b8140061",
   "metadata": {},
   "source": [
    "### 4. Write a Python program to swap two variables?\n"
   ]
  },
  {
   "cell_type": "code",
   "execution_count": 6,
   "id": "ecffd6da",
   "metadata": {},
   "outputs": [
    {
     "name": "stdout",
     "output_type": "stream",
     "text": [
      "Enter Value 3\n",
      "Enter Value 4\n",
      "Value of a is 4 Value of b is 3\n"
     ]
    }
   ],
   "source": [
    "a=int(input(\"Enter Value \"))\n",
    "b=int(input(\"Enter Value \"))\n",
    "a,b=b,a\n",
    "print('Value of a is',a ,  'Value of b is',b)"
   ]
  },
  {
   "cell_type": "markdown",
   "id": "3f8054c1",
   "metadata": {},
   "source": [
    "### 5. Write a Python program to generate a random number?\n"
   ]
  },
  {
   "cell_type": "code",
   "execution_count": 7,
   "id": "c9ac731c",
   "metadata": {},
   "outputs": [
    {
     "name": "stdout",
     "output_type": "stream",
     "text": [
      "3\n"
     ]
    }
   ],
   "source": [
    "import random \n",
    "print(random.randint(0,9))"
   ]
  },
  {
   "cell_type": "code",
   "execution_count": null,
   "id": "f61b9be6",
   "metadata": {},
   "outputs": [],
   "source": []
  }
 ],
 "metadata": {
  "kernelspec": {
   "display_name": "Python 3 (ipykernel)",
   "language": "python",
   "name": "python3"
  },
  "language_info": {
   "codemirror_mode": {
    "name": "ipython",
    "version": 3
   },
   "file_extension": ".py",
   "mimetype": "text/x-python",
   "name": "python",
   "nbconvert_exporter": "python",
   "pygments_lexer": "ipython3",
   "version": "3.8.16"
  }
 },
 "nbformat": 4,
 "nbformat_minor": 5
}
