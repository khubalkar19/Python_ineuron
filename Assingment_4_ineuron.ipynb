{
 "cells": [
  {
   "cell_type": "markdown",
   "id": "bf269f6e",
   "metadata": {},
   "source": [
    "1. Write a Python Program to Find the Factorial of a Number?"
   ]
  },
  {
   "cell_type": "code",
   "execution_count": 2,
   "id": "cc1cbe21",
   "metadata": {},
   "outputs": [
    {
     "name": "stdout",
     "output_type": "stream",
     "text": [
      " Enter the number 1234\n",
      "24\n"
     ]
    }
   ],
   "source": [
    "num=int(input(\" Enter the number \"))\n",
    "fac=1\n",
    "for i in range (0,3):\n",
    "    \n",
    "    \n",
    "    rem=num%10\n",
    "    fac=fac*rem\n",
    "    num=num//10\n",
    "    \n",
    "    #print(rem)\n",
    "print(fac)"
   ]
  },
  {
   "cell_type": "markdown",
   "id": "9db3bb26",
   "metadata": {},
   "source": [
    "2. Write a Python Program to Display the multiplication Table?"
   ]
  },
  {
   "cell_type": "code",
   "execution_count": 3,
   "id": "8c5672d5",
   "metadata": {},
   "outputs": [
    {
     "name": "stdout",
     "output_type": "stream",
     "text": [
      "6\n",
      "6 * 1 = 6\n",
      "6 * 2 = 12\n",
      "6 * 3 = 18\n",
      "6 * 4 = 24\n",
      "6 * 5 = 30\n",
      "6 * 6 = 36\n",
      "6 * 7 = 42\n",
      "6 * 8 = 48\n",
      "6 * 9 = 54\n",
      "6 * 10 = 60\n"
     ]
    }
   ],
   "source": [
    "num=int(input())\n",
    "for i in range(1,11):\n",
    "    \n",
    "    print(num,\"*\",i,\"=\",num*i)"
   ]
  },
  {
   "cell_type": "markdown",
   "id": "22981db9",
   "metadata": {},
   "source": [
    "3. Write a Python Program to Print the Fibonacci sequence?"
   ]
  },
  {
   "cell_type": "code",
   "execution_count": 4,
   "id": "8469e1c1",
   "metadata": {},
   "outputs": [
    {
     "name": "stdout",
     "output_type": "stream",
     "text": [
      "Enter num 4\n",
      "Enter num 6\n",
      "Range 7\n",
      "10 16 26 42 68 110 178 "
     ]
    }
   ],
   "source": [
    "a=int(input(\"Enter num \"))\n",
    "b=int(input(\"Enter num \"))\n",
    "num=int(input(\"Range \"))\n",
    "c=0\n",
    "for i in range(num):\n",
    "    c=a+b\n",
    "    print(c,end=\" \")\n",
    "    a=b\n",
    "    b=c"
   ]
  },
  {
   "cell_type": "markdown",
   "id": "66e1e61f",
   "metadata": {},
   "source": [
    "4. Write a Python Program to Check Armstrong Number?"
   ]
  },
  {
   "cell_type": "code",
   "execution_count": 5,
   "id": "04285940",
   "metadata": {},
   "outputs": [
    {
     "name": "stdout",
     "output_type": "stream",
     "text": [
      "Enter Number 2\n",
      "It is an   Armstrong Number \n",
      "2 == 2\n"
     ]
    }
   ],
   "source": [
    "num=int(input(\"Enter Number \"))\n",
    "s=num\n",
    "d=0\n",
    "n=len(str(num))\n",
    "for i in range(0,200):\n",
    "    rem=num%10\n",
    "    d=d+(rem**n)\n",
    "    \n",
    "    num=num//10\n",
    "    \n",
    "if s==d:\n",
    "    print(\"It is an   Armstrong Number \")\n",
    "    print(s,\"==\", d)\n",
    "else:\n",
    "    print(\"It is not an Armstrong Number  \")\n",
    "    print(s,\"!=\", d)"
   ]
  },
  {
   "cell_type": "code",
   "execution_count": null,
   "id": "36d1aba7",
   "metadata": {},
   "outputs": [],
   "source": [
    "6. Write a Python Program to Find the Sum of Natural Numbers?"
   ]
  },
  {
   "cell_type": "code",
   "execution_count": 6,
   "id": "cbaea620",
   "metadata": {},
   "outputs": [
    {
     "name": "stdout",
     "output_type": "stream",
     "text": [
      "Enter  Range  \n",
      "34\n",
      "Sum of Natural number is  561\n"
     ]
    }
   ],
   "source": [
    "num=int(input(\"Enter  Range  \\n\"))\n",
    "total=0\n",
    "for i in range(0,num):\n",
    "    \n",
    "    total=total+i\n",
    "    \n",
    "print(\"Sum of Natural number is \",total)"
   ]
  },
  {
   "cell_type": "code",
   "execution_count": null,
   "id": "03186ef2",
   "metadata": {},
   "outputs": [],
   "source": []
  }
 ],
 "metadata": {
  "kernelspec": {
   "display_name": "Python 3 (ipykernel)",
   "language": "python",
   "name": "python3"
  },
  "language_info": {
   "codemirror_mode": {
    "name": "ipython",
    "version": 3
   },
   "file_extension": ".py",
   "mimetype": "text/x-python",
   "name": "python",
   "nbconvert_exporter": "python",
   "pygments_lexer": "ipython3",
   "version": "3.8.16"
  }
 },
 "nbformat": 4,
 "nbformat_minor": 5
}
