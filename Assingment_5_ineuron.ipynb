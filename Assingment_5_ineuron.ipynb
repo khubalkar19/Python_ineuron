{
 "cells": [
  {
   "cell_type": "code",
   "execution_count": null,
   "id": "ab991812",
   "metadata": {},
   "outputs": [],
   "source": [
    "1. Write a Python Program to Find LCM? "
   ]
  },
  {
   "cell_type": "code",
   "execution_count": 1,
   "id": "5726135a",
   "metadata": {},
   "outputs": [
    {
     "name": "stdout",
     "output_type": "stream",
     "text": [
      "5\n",
      "6\n"
     ]
    },
    {
     "data": {
      "text/plain": [
       "30"
      ]
     },
     "execution_count": 1,
     "metadata": {},
     "output_type": "execute_result"
    }
   ],
   "source": [
    "greater=1\n",
    "x=int(input())\n",
    "y=int(input())\n",
    "def lcm(x,y):\n",
    "\n",
    "    if x>y:\n",
    "        greater=x\n",
    "    else:\n",
    "        greater=y\n",
    "    while (True):\n",
    "        if (greater%x==0) and (greater%y==0):\n",
    "            lcm=greater\n",
    "            break\n",
    "\n",
    "        greater=greater+1\n",
    "\n",
    "    return lcm\n",
    "\n",
    "lcm(x,y)"
   ]
  },
  {
   "cell_type": "code",
   "execution_count": null,
   "id": "34a9d670",
   "metadata": {},
   "outputs": [],
   "source": [
    "2. Write a Python Program to Find HCF?"
   ]
  },
  {
   "cell_type": "code",
   "execution_count": 2,
   "id": "85a03c32",
   "metadata": {},
   "outputs": [
    {
     "name": "stdout",
     "output_type": "stream",
     "text": [
      "6\n",
      "8\n",
      "HCF of  6 and 8  is 2\n"
     ]
    }
   ],
   "source": [
    "smaller=1\n",
    "x=int(input())\n",
    "y=int(input())\n",
    "def hcf (x,y):\n",
    "\n",
    "    if x>y:\n",
    "        smaller=y\n",
    "    else:\n",
    "        smaller=x\n",
    "    for i in range(1,smaller+1):\n",
    "        if (x%i==0) and (y%i==0):\n",
    "            hcf=i\n",
    "    return hcf\n",
    "\n",
    "print(\"HCF of \",x ,\"and\",y,\" is\", hcf(x,y))"
   ]
  },
  {
   "cell_type": "code",
   "execution_count": null,
   "id": "2b9d74bd",
   "metadata": {},
   "outputs": [],
   "source": [
    "3. Write a Python Program to Convert Decimal to Binary, Octal and Hexadecimal?"
   ]
  },
  {
   "cell_type": "code",
   "execution_count": 3,
   "id": "d56eb348",
   "metadata": {},
   "outputs": [
    {
     "name": "stdout",
     "output_type": "stream",
     "text": [
      "Enter number \n",
      "5\n",
      "Decimal to binary 5 to 0b101\n",
      "Decimal to Octal 5 to 0o5\n",
      "Decimal to Heaxdecimal 5 to 0x5\n"
     ]
    }
   ],
   "source": [
    "num=int(input(\"Enter number \\n\"))\n",
    "\n",
    "\n",
    "print(\"Decimal to binary\", num ,\"to\",bin(num))\n",
    "print(\"Decimal to Octal\", num ,\"to\",oct(num))\n",
    "print(\"Decimal to Heaxdecimal\", num ,\"to\",hex(num))"
   ]
  },
  {
   "cell_type": "code",
   "execution_count": null,
   "id": "f78dac45",
   "metadata": {},
   "outputs": [],
   "source": [
    "4. Write a Python Program To Find ASCII value of a character?"
   ]
  },
  {
   "cell_type": "code",
   "execution_count": 4,
   "id": "f38b0b54",
   "metadata": {},
   "outputs": [
    {
     "name": "stdout",
     "output_type": "stream",
     "text": [
      "Enter character \n",
      "t\n",
      " The ASCII value of  the character is  116\n"
     ]
    }
   ],
   "source": [
    "inp=input(\"Enter character \\n\")\n",
    "print(\" The ASCII value of  the character is \",ord(inp))"
   ]
  },
  {
   "cell_type": "code",
   "execution_count": 5,
   "id": "87ddbb8b",
   "metadata": {},
   "outputs": [
    {
     "name": "stdout",
     "output_type": "stream",
     "text": [
      "Enter input \n",
      "5\n",
      " The ASCII value of  the character 5  is  53\n"
     ]
    }
   ],
   "source": [
    "inp=input(\"Enter input \\n\")\n",
    "for i in (inp) :\n",
    "    print(\" The ASCII value of  the character\",i ,\" is \",ord(i))"
   ]
  },
  {
   "cell_type": "code",
   "execution_count": null,
   "id": "32d8539f",
   "metadata": {},
   "outputs": [],
   "source": [
    "5. Write a Python Program to Make a Simple Calculator with 4 basic mathematical operations?"
   ]
  },
  {
   "cell_type": "code",
   "execution_count": 6,
   "id": "188db370",
   "metadata": {},
   "outputs": [
    {
     "name": "stdout",
     "output_type": "stream",
     "text": [
      "Enter number\n",
      "4\n",
      "+ / * - \n",
      "4\n",
      "46\n",
      "Enter number\n",
      "6\n"
     ]
    }
   ],
   "source": [
    "num1=int(input(\"Enter number\\n\"))\n",
    "op=input(input(\"+ / * - \\n\"))\n",
    "num2=int(input(\"Enter number\\n\"))\n",
    "\n",
    "if op==\"+\":\n",
    "    print(num1,\"+\",num2,((num1+num2)))\n",
    "elif op==\"-\":\n",
    "    print(num1,\"-\",num2,(num1-num2))\n",
    "elif op ==\"*\":\n",
    "    print(num1,\"*\",num2,(num1*num2))\n",
    "elif op==\"/\":\n",
    "    print(num1,\"/\",num2,(num1/num2))"
   ]
  },
  {
   "cell_type": "code",
   "execution_count": null,
   "id": "59020c9c",
   "metadata": {},
   "outputs": [],
   "source": []
  }
 ],
 "metadata": {
  "kernelspec": {
   "display_name": "Python 3 (ipykernel)",
   "language": "python",
   "name": "python3"
  },
  "language_info": {
   "codemirror_mode": {
    "name": "ipython",
    "version": 3
   },
   "file_extension": ".py",
   "mimetype": "text/x-python",
   "name": "python",
   "nbconvert_exporter": "python",
   "pygments_lexer": "ipython3",
   "version": "3.8.16"
  }
 },
 "nbformat": 4,
 "nbformat_minor": 5
}
