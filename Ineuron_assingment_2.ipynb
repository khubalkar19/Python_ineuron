{
 "cells": [
  {
   "cell_type": "markdown",
   "id": "fb314d35",
   "metadata": {},
   "source": [
    "1. Write a Python program to convert kilometers to miles?"
   ]
  },
  {
   "cell_type": "code",
   "execution_count": 1,
   "id": "75d1a5b7",
   "metadata": {},
   "outputs": [
    {
     "name": "stdout",
     "output_type": "stream",
     "text": [
      "Enter Km 45\n",
      "km to m is 27.9\n"
     ]
    }
   ],
   "source": [
    "km=int(input(\"Enter Km \"))\n",
    "miles=km*0.62\n",
    "print(\"km to m is\",miles)"
   ]
  },
  {
   "cell_type": "markdown",
   "id": "fca5e2cd",
   "metadata": {},
   "source": [
    "2.Write a Python program to convert Celsius to Fahrenheit?"
   ]
  },
  {
   "cell_type": "code",
   "execution_count": 2,
   "id": "bdddb411",
   "metadata": {},
   "outputs": [
    {
     "name": "stdout",
     "output_type": "stream",
     "text": [
      "Enter Celsiius 89\n",
      "192.2\n"
     ]
    }
   ],
   "source": [
    "C=int(input(\"Enter Celsiius \"))\n",
    "F=C*9/5+32\n",
    "print(F)"
   ]
  },
  {
   "cell_type": "markdown",
   "id": "d9393bfc",
   "metadata": {},
   "source": [
    "3. Write a Python program to display calendar?"
   ]
  },
  {
   "cell_type": "code",
   "execution_count": 3,
   "id": "7d472994",
   "metadata": {},
   "outputs": [
    {
     "name": "stdout",
     "output_type": "stream",
     "text": [
      " Year 1995\n",
      " Month 08\n",
      "    August 1995\n",
      "Mo Tu We Th Fr Sa Su\n",
      "    1  2  3  4  5  6\n",
      " 7  8  9 10 11 12 13\n",
      "14 15 16 17 18 19 20\n",
      "21 22 23 24 25 26 27\n",
      "28 29 30 31\n",
      "  Year 1996\n",
      " Month 04\n",
      "     April 1996\n",
      "Mo Tu We Th Fr Sa Su\n",
      " 1  2  3  4  5  6  7\n",
      " 8  9 10 11 12 13 14\n",
      "15 16 17 18 19 20 21\n",
      "22 23 24 25 26 27 28\n",
      "29 30\n",
      " "
     ]
    }
   ],
   "source": [
    "import calendar \n",
    "for  i in range (0,2):\n",
    "    if i<2:\n",
    "        year=int(input(\" Year \"))\n",
    "        mm=int(input(\" Month \"))\n",
    "        print(calendar.month(year,mm),end=\" \")"
   ]
  },
  {
   "cell_type": "markdown",
   "id": "3c3556c1",
   "metadata": {},
   "source": [
    "5. Write a Python program to swap two variables without temp variable?"
   ]
  },
  {
   "cell_type": "code",
   "execution_count": 4,
   "id": "926ab3fc",
   "metadata": {},
   "outputs": [
    {
     "name": "stdout",
     "output_type": "stream",
     "text": [
      " Enter value 7\n",
      " Enter value 9\n",
      "9 \n",
      " 7\n"
     ]
    }
   ],
   "source": [
    "a=int(input(\" Enter value \"))\n",
    "b=int(input(\" Enter value \"))\n",
    "a,b=b,a\n",
    "print(a,\"\\n\",b)"
   ]
  },
  {
   "cell_type": "code",
   "execution_count": null,
   "id": "c9aea96d",
   "metadata": {},
   "outputs": [],
   "source": []
  }
 ],
 "metadata": {
  "kernelspec": {
   "display_name": "Python 3 (ipykernel)",
   "language": "python",
   "name": "python3"
  },
  "language_info": {
   "codemirror_mode": {
    "name": "ipython",
    "version": 3
   },
   "file_extension": ".py",
   "mimetype": "text/x-python",
   "name": "python",
   "nbconvert_exporter": "python",
   "pygments_lexer": "ipython3",
   "version": "3.8.16"
  }
 },
 "nbformat": 4,
 "nbformat_minor": 5
}
