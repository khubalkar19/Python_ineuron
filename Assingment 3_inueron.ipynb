{
 "cells": [
  {
   "cell_type": "markdown",
   "id": "9d4b59a2",
   "metadata": {},
   "source": [
    "1. Write a Python Program to Check if a Number is Positive, Negative or Zero?"
   ]
  },
  {
   "cell_type": "code",
   "execution_count": 1,
   "id": "7bd476d6",
   "metadata": {},
   "outputs": [
    {
     "name": "stdout",
     "output_type": "stream",
     "text": [
      " Enter Number 1\n",
      "Number is Positive 1\n"
     ]
    }
   ],
   "source": [
    "num=int(input(\" Enter Number \"))\n",
    "if num>0:\n",
    "    print(\"Number is Positive\",num)\n",
    "else:\n",
    "    print(\"Number is Negative\",num)"
   ]
  },
  {
   "cell_type": "markdown",
   "id": "c5eee5ca",
   "metadata": {},
   "source": [
    "2. Write a Python Program to Check if a Number is Odd or Even?"
   ]
  },
  {
   "cell_type": "code",
   "execution_count": 2,
   "id": "f8322d83",
   "metadata": {},
   "outputs": [
    {
     "name": "stdout",
     "output_type": "stream",
     "text": [
      " Enter number 5\n",
      "5 Number is  Odd\n"
     ]
    }
   ],
   "source": [
    "num=int(input(\" Enter number \"))\n",
    "if num%2==0:\n",
    "    print(num,\"Number is  Even\")\n",
    "else:\n",
    "    print(num,\"Number is  Odd\")"
   ]
  },
  {
   "cell_type": "markdown",
   "id": "66715518",
   "metadata": {},
   "source": [
    "3. Write a Python Program to Check Leap Year?"
   ]
  },
  {
   "cell_type": "code",
   "execution_count": 3,
   "id": "02c2783c",
   "metadata": {},
   "outputs": [
    {
     "name": "stdout",
     "output_type": "stream",
     "text": [
      " Enter Year 1997\n",
      "1997 It is Not A Leap Year\n"
     ]
    }
   ],
   "source": [
    "yy=int(input(\" Enter Year \"))\n",
    "if yy%4==0 or yy%100==0 or yy%400==0:\n",
    "    print(yy,\"It is A Leap Year\")\n",
    "else:\n",
    "     print(yy,\"It is Not A Leap Year\")"
   ]
  },
  {
   "cell_type": "markdown",
   "id": "65e26e3d",
   "metadata": {},
   "source": [
    "4. Write a Python Program to Check Prime Number?"
   ]
  },
  {
   "cell_type": "code",
   "execution_count": 4,
   "id": "1bb35bcc",
   "metadata": {},
   "outputs": [
    {
     "name": "stdout",
     "output_type": "stream",
     "text": [
      " Enter Number 5\n",
      "Prime 5\n"
     ]
    }
   ],
   "source": [
    "num=int(input(\" Enter Number \"))\n",
    "x=2\n",
    "flag=True\n",
    "for i in range(x,num):\n",
    "    if num%i==0:\n",
    "       \n",
    "        flag= False\n",
    "        \n",
    "if flag:\n",
    "    print(\"Prime\",num)\n",
    "else:\n",
    "    print(\"Not Prime\")"
   ]
  },
  {
   "cell_type": "code",
   "execution_count": null,
   "id": "4c672114",
   "metadata": {},
   "outputs": [],
   "source": []
  }
 ],
 "metadata": {
  "kernelspec": {
   "display_name": "Python 3 (ipykernel)",
   "language": "python",
   "name": "python3"
  },
  "language_info": {
   "codemirror_mode": {
    "name": "ipython",
    "version": 3
   },
   "file_extension": ".py",
   "mimetype": "text/x-python",
   "name": "python",
   "nbconvert_exporter": "python",
   "pygments_lexer": "ipython3",
   "version": "3.8.16"
  }
 },
 "nbformat": 4,
 "nbformat_minor": 5
}
